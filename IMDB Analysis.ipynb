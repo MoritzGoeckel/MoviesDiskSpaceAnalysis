{
 "cells": [
  {
   "cell_type": "markdown",
   "metadata": {},
   "source": [
    "# How much disk space does one need to store all relevant movies?\n",
    "\n",
    "## Assumptions:\n",
    "\n",
    "* Netflix uses 13 MB per minute of video\n",
    "* 1024 MB are in a GB\n",
    "* 1024 GB are in a TB\n",
    "* Relevant movies are the movies that account for 80% of votes on IMDB"
   ]
  },
  {
   "cell_type": "code",
   "execution_count": 97,
   "metadata": {
    "collapsed": true
   },
   "outputs": [],
   "source": [
    "# We want inline charts\n",
    "%matplotlib inline\n",
    "\n",
    "import pandas as pd # For data management\n",
    "import numpy as np # For math and array functions\n",
    "import matplotlib.pyplot as plt # For plotting"
   ]
  },
  {
   "cell_type": "code",
   "execution_count": 98,
   "metadata": {
    "collapsed": false
   },
   "outputs": [],
   "source": [
    "# Read movies file\n",
    "movies = pd.read_csv('basics.tsv', sep='\\t', index_col='tconst', low_memory=False)"
   ]
  },
  {
   "cell_type": "code",
   "execution_count": 99,
   "metadata": {
    "collapsed": false
   },
   "outputs": [
    {
     "data": {
      "text/plain": [
       "['titleType',\n",
       " 'primaryTitle',\n",
       " 'originalTitle',\n",
       " 'isAdult',\n",
       " 'startYear',\n",
       " 'endYear',\n",
       " 'runtimeMinutes',\n",
       " 'genres']"
      ]
     },
     "execution_count": 99,
     "metadata": {},
     "output_type": "execute_result"
    }
   ],
   "source": [
    "list(movies)"
   ]
  },
  {
   "cell_type": "code",
   "execution_count": 100,
   "metadata": {
    "collapsed": false
   },
   "outputs": [
    {
     "data": {
      "text/plain": [
       "array(['short', 'Le clown et ses chiens', 'Le clown et ses chiens', 0,\n",
       "       '1892', '\\\\N', '5', 'Animation,Short'], dtype=object)"
      ]
     },
     "execution_count": 100,
     "metadata": {},
     "output_type": "execute_result"
    }
   ],
   "source": [
    "movies.values[1]"
   ]
  },
  {
   "cell_type": "code",
   "execution_count": 101,
   "metadata": {
    "collapsed": false
   },
   "outputs": [],
   "source": [
    "# runtime should be a number\n",
    "movies[['runtimeMinutes']] = movies[['runtimeMinutes']].apply(pd.to_numeric, errors='coerce')\n",
    "\n",
    "# Set start year to be a number\n",
    "movies[['startYear']] = movies[['startYear']].apply(pd.to_numeric, errors='coerce')"
   ]
  },
  {
   "cell_type": "code",
   "execution_count": 102,
   "metadata": {
    "collapsed": false
   },
   "outputs": [
    {
     "data": {
      "text/plain": [
       "array(['short', 'Le clown et ses chiens', 'Le clown et ses chiens', 0,\n",
       "       1892.0, '\\\\N', 5.0, 'Animation,Short'], dtype=object)"
      ]
     },
     "execution_count": 102,
     "metadata": {},
     "output_type": "execute_result"
    }
   ],
   "source": [
    "movies.values[1]"
   ]
  },
  {
   "cell_type": "code",
   "execution_count": 103,
   "metadata": {
    "collapsed": true
   },
   "outputs": [],
   "source": [
    "# load the ratings file\n",
    "ratings = pd.read_csv('ratings.tsv', sep='\\t', index_col='tconst', low_memory=False)"
   ]
  },
  {
   "cell_type": "code",
   "execution_count": 104,
   "metadata": {
    "collapsed": false
   },
   "outputs": [
    {
     "data": {
      "text/plain": [
       "['averageRating', 'numVotes']"
      ]
     },
     "execution_count": 104,
     "metadata": {},
     "output_type": "execute_result"
    }
   ],
   "source": [
    "list(ratings)"
   ]
  },
  {
   "cell_type": "code",
   "execution_count": 105,
   "metadata": {
    "collapsed": false
   },
   "outputs": [
    {
     "data": {
      "text/plain": [
       "array([   6.5,  156. ])"
      ]
     },
     "execution_count": 105,
     "metadata": {},
     "output_type": "execute_result"
    }
   ],
   "source": [
    "ratings.values[1]"
   ]
  },
  {
   "cell_type": "code",
   "execution_count": 106,
   "metadata": {
    "collapsed": false
   },
   "outputs": [],
   "source": [
    "# Add the ratings to the movies\n",
    "movies = pd.merge(movies, ratings, left_index=True, right_index=True)"
   ]
  },
  {
   "cell_type": "code",
   "execution_count": 107,
   "metadata": {
    "collapsed": false
   },
   "outputs": [
    {
     "data": {
      "text/plain": [
       "2323560"
      ]
     },
     "execution_count": 107,
     "metadata": {},
     "output_type": "execute_result"
    }
   ],
   "source": [
    "# Dropping NANs\n",
    "tmp = movies.dropna(axis=0, how='any')\n",
    "dropped = movies.size - tmp.size\n",
    "movies = tmp\n",
    "dropped"
   ]
  },
  {
   "cell_type": "code",
   "execution_count": 108,
   "metadata": {
    "collapsed": false
   },
   "outputs": [
    {
     "data": {
      "text/plain": [
       "array(['short', 'Le clown et ses chiens', 'Le clown et ses chiens', 0,\n",
       "       1892.0, '\\\\N', 5.0, 'Animation,Short', 6.5, 156], dtype=object)"
      ]
     },
     "execution_count": 108,
     "metadata": {},
     "output_type": "execute_result"
    }
   ],
   "source": [
    "movies.values[1]"
   ]
  },
  {
   "cell_type": "code",
   "execution_count": 109,
   "metadata": {
    "collapsed": false,
    "scrolled": true
   },
   "outputs": [
    {
     "data": {
      "text/plain": [
       "1379.8699463443925"
      ]
     },
     "execution_count": 109,
     "metadata": {},
     "output_type": "execute_result"
    }
   ],
   "source": [
    "# What is the average number of votes per movie?\n",
    "avgNumVotes = movies['numVotes'].mean()\n",
    "avgNumVotes"
   ]
  },
  {
   "cell_type": "code",
   "execution_count": 110,
   "metadata": {
    "collapsed": false
   },
   "outputs": [
    {
     "name": "stderr",
     "output_type": "stream",
     "text": [
      "C:\\ProgramData\\Anaconda3\\lib\\site-packages\\ipykernel\\__main__.py:2: FutureWarning: sort(columns=....) is deprecated, use sort_values(by=.....)\n",
      "  from ipykernel import kernelapp as app\n"
     ]
    }
   ],
   "source": [
    "# Sort movies that the most popular are on top\n",
    "movies = movies.sort(['numVotes'],  ascending=False)\n",
    "\n",
    "# Get the number of all ratings\n",
    "allRatings = movies['numVotes'].sum()\n",
    "seenRatings = 0\n",
    "\n",
    "# Set all movies as irrelevant\n",
    "movies['relevant'] = False"
   ]
  },
  {
   "cell_type": "code",
   "execution_count": 111,
   "metadata": {
    "collapsed": false
   },
   "outputs": [],
   "source": [
    "# Go through all movies until you have seen 80% of all ratings\n",
    "# The movies that account for 80% of votes are relevant\n",
    "\n",
    "for index, movie in movies.iterrows():\n",
    "    movies.loc[index, 'relevant'] = True\n",
    "    seenRatings += movie['numVotes']\n",
    "    if seenRatings / allRatings >= 0.8:\n",
    "        break"
   ]
  },
  {
   "cell_type": "code",
   "execution_count": 112,
   "metadata": {
    "collapsed": false
   },
   "outputs": [
    {
     "data": {
      "text/plain": [
       "1.2620601851444229"
      ]
     },
     "execution_count": 112,
     "metadata": {},
     "output_type": "execute_result"
    }
   ],
   "source": [
    "# How many percent of the movies do account for 80% of votes\n",
    "movies[movies['relevant']].size / movies.size * 100"
   ]
  },
  {
   "cell_type": "code",
   "execution_count": 113,
   "metadata": {
    "collapsed": false,
    "scrolled": true
   },
   "outputs": [
    {
     "data": {
      "text/plain": [
       "68068"
      ]
     },
     "execution_count": 113,
     "metadata": {},
     "output_type": "execute_result"
    }
   ],
   "source": [
    "# Get movies that are new and relevant\n",
    "# We also exclude series\n",
    "\n",
    "# To only consider recent movies:\n",
    "#  & (movies['startYear'] > 2000)\n",
    "\n",
    "newAndRelevant = movies[((movies['relevant'] == True) & (movies['titleType'] == \"movie\"))]\n",
    "newAndRelevant.size"
   ]
  },
  {
   "cell_type": "code",
   "execution_count": 114,
   "metadata": {
    "collapsed": false
   },
   "outputs": [
    {
     "name": "stdout",
     "output_type": "stream",
     "text": [
      "8.423178672790527 tb\n"
     ]
    }
   ],
   "source": [
    "# Netflix uses 13mb for one minute of video\n",
    "# 1024 mb in a gb\n",
    "# 1024 gb in a tb\n",
    "print (str(newAndRelevant['runtimeMinutes'].sum() * 13 / 1024 / 1024) + \" tb\")"
   ]
  },
  {
   "cell_type": "markdown",
   "metadata": {},
   "source": [
    "# One would need 8.4 TB to store all relevant movies"
   ]
  }
 ],
 "metadata": {
  "kernelspec": {
   "display_name": "Python 3",
   "language": "python",
   "name": "python3"
  },
  "language_info": {
   "codemirror_mode": {
    "name": "ipython",
    "version": 3
   },
   "file_extension": ".py",
   "mimetype": "text/x-python",
   "name": "python",
   "nbconvert_exporter": "python",
   "pygments_lexer": "ipython3",
   "version": "3.6.0"
  }
 },
 "nbformat": 4,
 "nbformat_minor": 2
}
